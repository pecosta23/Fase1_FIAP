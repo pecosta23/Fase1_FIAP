{
 "cells": [
  {
   "cell_type": "markdown",
   "metadata": {},
   "source": [
    "# Introdução ao Python \n",
    "\n",
    "## O que é Python?\n",
    "\n",
    "Python é uma linguagem de programação de alto nível conhecida por sua simplicidade e legibilidade. Neste notebook, vamos explorar conceitos básicos de Python para iniciantes."
   ]
  },
  {
   "cell_type": "markdown",
   "metadata": {},
   "source": [
    "Exemplo classico:"
   ]
  },
  {
   "cell_type": "code",
   "execution_count": 2,
   "metadata": {},
   "outputs": [
    {
     "name": "stdout",
     "output_type": "stream",
     "text": [
      "Hello, World!\n"
     ]
    }
   ],
   "source": [
    "print(\"Hello, World!\")"
   ]
  },
  {
   "cell_type": "markdown",
   "metadata": {},
   "source": [
    "## Declarando Variáveis\n",
    "\n",
    "Em Python, você pode declarar uma variável e atribuir um valor a ela. Vamos ver alguns exemplos:"
   ]
  },
  {
   "cell_type": "code",
   "execution_count": null,
   "metadata": {},
   "outputs": [
    {
     "name": "stdout",
     "output_type": "stream",
     "text": [
      "42\n",
      "João\n",
      "2500.5\n"
     ]
    }
   ],
   "source": [
    "# Declarando variáveis\n",
    "numero = 43\n",
    "nome = 'Pedro Costa'\n",
    "salario = 2500.50\n",
    "\n",
    "# Imprimindo as variáveis\n",
    "print(numero)\n",
    "print(nome)\n",
    "print(salario)"
   ]
  },
  {
   "cell_type": "markdown",
   "metadata": {},
   "source": [
    "## Manipulando Variáveis\n",
    "\n",
    "Você pode realizar operações matemáticas e concatenar strings com variáveis em Python."
   ]
  },
  {
   "cell_type": "code",
   "execution_count": 4,
   "metadata": {},
   "outputs": [
    {
     "name": "stdout",
     "output_type": "stream",
     "text": [
      "Soma: 30\n",
      "Concatenação: Olá Mundo!\n"
     ]
    }
   ],
   "source": [
    "# Operações com variáveis\n",
    "a = 10\n",
    "b = 20\n",
    "soma = a + b\n",
    "concatenacao = 'Olá' + ' ' + 'Mundo!'\n",
    "\n",
    "# Imprimindo os resultados\n",
    "print('Soma:', soma)\n",
    "print('Concatenação:', concatenacao)"
   ]
  },
  {
   "cell_type": "code",
   "execution_count": 5,
   "metadata": {},
   "outputs": [],
   "source": [
    "# Definindo uma string\n",
    "frase = 'aaaaaaa bilu teteia'"
   ]
  },
  {
   "cell_type": "code",
   "execution_count": 7,
   "metadata": {},
   "outputs": [
    {
     "name": "stdout",
     "output_type": "stream",
     "text": [
      "aaaaaaa bilu teteia\n"
     ]
    }
   ],
   "source": [
    "# Imprimindo a string\n",
    "print(frase)"
   ]
  },
  {
   "cell_type": "markdown",
   "metadata": {},
   "source": [
    "## Operações Básicas\n",
    "\n",
    "Vamos realizar algumas operações básicas com a string."
   ]
  },
  {
   "cell_type": "code",
   "execution_count": 6,
   "metadata": {},
   "outputs": [
    {
     "name": "stdout",
     "output_type": "stream",
     "text": [
      "Tamanho da string: 19\n"
     ]
    }
   ],
   "source": [
    "# Tamanho da string\n",
    "tamanho = len(frase)\n",
    "print('Tamanho da string:', tamanho)"
   ]
  },
  {
   "cell_type": "code",
   "execution_count": 8,
   "metadata": {},
   "outputs": [
    {
     "name": "stdout",
     "output_type": "stream",
     "text": [
      "Maiúsculas: AAAAAAA BILU TETEIA\n"
     ]
    }
   ],
   "source": [
    "# Transformando em maiúsculas\n",
    "maiusculas = frase.upper()\n",
    "print('Maiúsculas:', maiusculas)"
   ]
  },
  {
   "cell_type": "code",
   "execution_count": 9,
   "metadata": {},
   "outputs": [
    {
     "name": "stdout",
     "output_type": "stream",
     "text": [
      "Nova frase: bilu bilu teteia\n"
     ]
    }
   ],
   "source": [
    "# Substituindo palavras na string\n",
    "nova_frase = frase.replace('aaaaaaa', 'bilu')\n",
    "print('Nova frase:', nova_frase)"
   ]
  }
 ],
 "metadata": {
  "kernelspec": {
   "display_name": "Python 3",
   "language": "python",
   "name": "python3"
  },
  "language_info": {
   "codemirror_mode": {
    "name": "ipython",
    "version": 3
   },
   "file_extension": ".py",
   "mimetype": "text/x-python",
   "name": "python",
   "nbconvert_exporter": "python",
   "pygments_lexer": "ipython3",
   "version": "3.12.6"
  }
 },
 "nbformat": 4,
 "nbformat_minor": 4
}
