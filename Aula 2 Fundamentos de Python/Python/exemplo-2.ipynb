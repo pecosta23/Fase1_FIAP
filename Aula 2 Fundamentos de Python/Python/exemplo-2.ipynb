{
 "cells": [
  {
   "cell_type": "markdown",
   "metadata": {},
   "source": [
    "# Introdução ao Python\n",
    "\n",
    "## Estruturas de Controle\n",
    "\n",
    "Estruturas de controle permitem a execução condicional e a repetição de blocos de código. Vamos explorar os principais tipos: condicionais e loops."
   ]
  },
  {
   "cell_type": "markdown",
   "metadata": {},
   "source": [
    "### Condicionais\n",
    "\n",
    "Condicionais permitem que você execute um bloco de código com base em uma condição."
   ]
  },
  {
   "cell_type": "code",
   "execution_count": 1,
   "metadata": {},
   "outputs": [
    {
     "name": "stdout",
     "output_type": "stream",
     "text": [
      "Você é maior de idade.\n"
     ]
    }
   ],
   "source": [
    "# Exemplo de condicional\n",
    "idade = 21\n",
    "if idade >= 18:\n",
    "    print('Você é maior de idade.')\n",
    "else:\n",
    "    print('Você é menor de idade.')"
   ]
  },
  {
   "cell_type": "markdown",
   "metadata": {},
   "source": [
    "### Loops\n",
    "\n",
    "Loops permitem que você repita um bloco de código várias vezes."
   ]
  },
  {
   "cell_type": "markdown",
   "metadata": {},
   "source": [
    "#### Loop `for`\n",
    "\n",
    "O loop `for` é utilizado para iterar sobre uma sequência (como uma lista, tupla ou string) ou outro objeto iterável."
   ]
  },
  {
   "cell_type": "code",
   "execution_count": 2,
   "metadata": {},
   "outputs": [
    {
     "name": "stdout",
     "output_type": "stream",
     "text": [
      "0\n",
      "1\n",
      "2\n",
      "3\n",
      "4\n"
     ]
    }
   ],
   "source": [
    "# Exemplo de loop for\n",
    "for i in range(5):\n",
    "    print(i)"
   ]
  },
  {
   "cell_type": "markdown",
   "metadata": {},
   "source": [
    "#### Loop `while`\n",
    "\n",
    "O loop `while` continua a executar o bloco de código enquanto a condição for verdadeira."
   ]
  },
  {
   "cell_type": "code",
   "execution_count": null,
   "metadata": {},
   "outputs": [],
   "source": [
    "# Exemplo de loop while\n",
    "while True:\n",
    "    resposta = input('Deseja continuar? (s/n) ')\n",
    "    if resposta.lower() == 'n':\n",
    "        break\n",
    "print('Operação finalizada.')"
   ]
  }
 ],
 "metadata": {
  "kernelspec": {
   "display_name": "Python 3",
   "language": "python",
   "name": "python3"
  },
  "language_info": {
   "codemirror_mode": {
    "name": "ipython",
    "version": 3
   },
   "file_extension": ".py",
   "mimetype": "text/x-python",
   "name": "python",
   "nbconvert_exporter": "python",
   "pygments_lexer": "ipython3",
   "version": "3.12.6"
  }
 },
 "nbformat": 4,
 "nbformat_minor": 4
}
