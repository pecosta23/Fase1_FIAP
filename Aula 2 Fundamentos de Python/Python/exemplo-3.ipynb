{
 "cells": [
  {
   "cell_type": "markdown",
   "metadata": {},
   "source": [
    "# ZeroDivisionError \n",
    "\n",
    "Esta é uma exceção em Python que ocorre quando uma operação de divisão é realizada com um divisor igual a zero. Essa exceção é lançada para evitar resultados indefinidos ou matematicamente inválidos. Quando esse erro ocorre, a execução do programa é interrompida e uma mensagem de erro é exibida, indicando que a divisão por zero é impossível."
   ]
  },
  {
   "cell_type": "code",
   "execution_count": 1,
   "metadata": {},
   "outputs": [
    {
     "name": "stdout",
     "output_type": "stream",
     "text": [
      "Erro de divisão por zero: division by zero\n"
     ]
    }
   ],
   "source": [
    "try:\n",
    "    result = 10 / 0\n",
    "except ZeroDivisionError as e:\n",
    "    print(\"Erro de divisão por zero:\", e)"
   ]
  },
  {
   "cell_type": "markdown",
   "metadata": {},
   "source": [
    "# TypeError\n",
    "Esta é uma exceção em Python que ocorre quando uma operação é realizada em um objeto de um tipo incompatível. Essa exceção é comumente lançada quando uma função é chamada com o número errado de argumentos ou quando operações são realizadas com tipos de dados incompatíveis."
   ]
  },
  {
   "cell_type": "code",
   "execution_count": 2,
   "metadata": {},
   "outputs": [
    {
     "name": "stdout",
     "output_type": "stream",
     "text": [
      "Erro de tipo: can only concatenate str (not \"int\") to str\n"
     ]
    }
   ],
   "source": [
    "try:\n",
    "    result = \"10\" + 5\n",
    "except TypeError as e:\n",
    "    print(\"Erro de tipo:\", e)"
   ]
  },
  {
   "cell_type": "markdown",
   "metadata": {},
   "source": [
    "# NameError \n",
    "\n",
    "Esta é uma exceção em Python que ocorre quando um identificador (nome de variável, função, classe, etc.) não é encontrado no escopo atual. Essa exceção é comumente lançada quando o interpretador Python não consegue associar um nome a um objeto existente.\n"
   ]
  },
  {
   "cell_type": "code",
   "execution_count": 3,
   "metadata": {},
   "outputs": [
    {
     "name": "stdout",
     "output_type": "stream",
     "text": [
      "Erro de nome: name 'variavel_inexistente' is not defined\n"
     ]
    }
   ],
   "source": [
    "try:\n",
    "    print(variavel_inexistente)\n",
    "except NameError as e:\n",
    "    print(\"Erro de nome:\", e)"
   ]
  },
  {
   "cell_type": "markdown",
   "metadata": {},
   "source": [
    "# ValueError \n",
    "\n",
    "Esta é uma exceção em Python que ocorre quando uma função recebe um argumento do tipo correto, mas com um valor inadequado. Essa exceção é comumente lançada quando uma operação espera um argumento de um tipo específico, porém o valor fornecido não é válido para essa operação."
   ]
  },
  {
   "cell_type": "code",
   "execution_count": 4,
   "metadata": {},
   "outputs": [
    {
     "name": "stdout",
     "output_type": "stream",
     "text": [
      "Erro de valor: invalid literal for int() with base 10: 'abc'\n"
     ]
    }
   ],
   "source": [
    "try:\n",
    "    int(\"abc\")\n",
    "except ValueError as e:\n",
    "    print(\"Erro de valor:\", e)"
   ]
  },
  {
   "cell_type": "markdown",
   "metadata": {},
   "source": [
    "# IndexError \n",
    "\n",
    "Esta é uma exceção em Python que ocorre quando você tenta acessar um índice em uma sequência (como uma lista, tupla ou string) fora dos limites válidos. Em Python, os índices geralmente começam em 0 e vão até o comprimento da sequência menos um. "
   ]
  },
  {
   "cell_type": "code",
   "execution_count": 8,
   "metadata": {},
   "outputs": [
    {
     "name": "stdout",
     "output_type": "stream",
     "text": [
      "Erro de índice: list index out of range\n"
     ]
    }
   ],
   "source": [
    "try:\n",
    "    my_list = [1, 2, 3, 4]\n",
    "    print(my_list[4])\n",
    "except IndexError as e:\n",
    "    print(\"Erro de índice:\", e)"
   ]
  },
  {
   "cell_type": "markdown",
   "metadata": {},
   "source": [
    "# KeyError\n",
    "\n",
    "Esta é uma exceção em Python que ocorre quando você tenta acessar uma chave que não está presente em um dicionário. Em Python, os dicionários são estruturas de dados que mapeiam chaves a valores. Se você tentar acessar uma chave que não existe no dicionário, um KeyError será gerado."
   ]
  },
  {
   "cell_type": "code",
   "execution_count": 12,
   "metadata": {},
   "outputs": [
    {
     "name": "stdout",
     "output_type": "stream",
     "text": [
      "Erro de chave: 'invalid_key'\n"
     ]
    }
   ],
   "source": [
    "try:\n",
    "    my_dict = {\"key\": \"value\"}\n",
    "    print(my_dict[\"invalid_key\"])\n",
    "except KeyError as e:\n",
    "    print(\"Erro de chave:\", e)"
   ]
  },
  {
   "cell_type": "markdown",
   "metadata": {},
   "source": [
    "# FileNotFoundError\n",
    "\n",
    "Esta é uma exceção em Python que ocorre quando um arquivo ou diretório especificado não pode ser encontrado durante uma operação de leitura, escrita ou manipulação de arquivos."
   ]
  },
  {
   "cell_type": "code",
   "execution_count": 7,
   "metadata": {},
   "outputs": [
    {
     "name": "stdout",
     "output_type": "stream",
     "text": [
      "Erro de arquivo não encontrado: [Errno 2] No such file or directory: 'arquivo_inexistente.txt'\n"
     ]
    }
   ],
   "source": [
    "try:\n",
    "    with open(\"arquivo_inexistente.txt\", \"r\") as file:\n",
    "        content = file.read()\n",
    "except FileNotFoundError as e:\n",
    "    print(\"Erro de arquivo não encontrado:\", e)"
   ]
  },
  {
   "cell_type": "markdown",
   "metadata": {},
   "source": [
    "# ImportError\n",
    "\n",
    "Esta é uma exceção em Python que ocorre quando um módulo ou pacote não pode ser importado corretamente. Essa exceção é comumente lançada quando o interpretador Python não consegue encontrar o módulo especificado em sys.path (uma lista de diretórios onde o Python procura por módulos)."
   ]
  },
  {
   "cell_type": "code",
   "execution_count": 8,
   "metadata": {},
   "outputs": [
    {
     "name": "stdout",
     "output_type": "stream",
     "text": [
      "Erro de importação: No module named 'modulo_inexistente'\n"
     ]
    }
   ],
   "source": [
    "try:\n",
    "    import modulo_inexistente\n",
    "except ImportError as e:\n",
    "    print(\"Erro de importação:\", e)"
   ]
  },
  {
   "cell_type": "markdown",
   "metadata": {},
   "source": [
    "# AttributeError\n",
    "\n",
    "Esta é uma exceção em Python que ocorre quando uma tentativa de acesso a um atributo de um objeto não é bem-sucedida. Essa exceção é comumente lançada quando um objeto não possui o atributo especificado."
   ]
  },
  {
   "cell_type": "code",
   "execution_count": 9,
   "metadata": {},
   "outputs": [
    {
     "name": "stdout",
     "output_type": "stream",
     "text": [
      "Erro de atributo: 'Exemplo' object has no attribute 'atributo_inexistente'\n"
     ]
    }
   ],
   "source": [
    "class Exemplo:\n",
    "    def __init__(self):\n",
    "        self.atributo = \"valor\"\n",
    "        \n",
    "try:\n",
    "    obj = Exemplo()\n",
    "    print(obj.atributo_inexistente)\n",
    "except AttributeError as e:\n",
    "    print(\"Erro de atributo:\", e)"
   ]
  }
 ],
 "metadata": {
  "kernelspec": {
   "display_name": "Python 3",
   "language": "python",
   "name": "python3"
  },
  "language_info": {
   "codemirror_mode": {
    "name": "ipython",
    "version": 3
   },
   "file_extension": ".py",
   "mimetype": "text/x-python",
   "name": "python",
   "nbconvert_exporter": "python",
   "pygments_lexer": "ipython3",
   "version": "3.12.6"
  }
 },
 "nbformat": 4,
 "nbformat_minor": 2
}
